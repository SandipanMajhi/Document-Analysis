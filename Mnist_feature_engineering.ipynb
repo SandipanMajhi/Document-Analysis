{
  "nbformat": 4,
  "nbformat_minor": 0,
  "metadata": {
    "colab": {
      "name": "Mnist_feature_engineering.ipynb",
      "provenance": [],
      "collapsed_sections": [],
      "authorship_tag": "ABX9TyN5mvZS0jLQ78g+VqKnpTfZ",
      "include_colab_link": true
    },
    "kernelspec": {
      "name": "python3",
      "display_name": "Python 3"
    },
    "language_info": {
      "name": "python"
    }
  },
  "cells": [
    {
      "cell_type": "markdown",
      "metadata": {
        "id": "view-in-github",
        "colab_type": "text"
      },
      "source": [
        "<a href=\"https://colab.research.google.com/github/SandipanMajhi/Document-Analysis/blob/main/Mnist_feature_engineering.ipynb\" target=\"_parent\"><img src=\"https://colab.research.google.com/assets/colab-badge.svg\" alt=\"Open In Colab\"/></a>"
      ]
    },
    {
      "cell_type": "code",
      "metadata": {
        "id": "ojfhxJTuzwDS"
      },
      "source": [
        "import torch\n",
        "import torch.nn as nn\n",
        "import torchvision\n",
        "import torchvision.datasets as datasets\n",
        "import numpy as np\n",
        "import cv2\n",
        "import matplotlib.pyplot as plt\n",
        "\n",
        "%matplotlib inline"
      ],
      "execution_count": null,
      "outputs": []
    },
    {
      "cell_type": "code",
      "metadata": {
        "id": "IxZH9Giu0C1r"
      },
      "source": [
        "train_set = datasets.MNIST(root = \"./data\", train=True, download=True, transform=None)\n",
        "test_set = datasets.MNIST(root = \"./data\", train=False, download = True, transform=None)"
      ],
      "execution_count": null,
      "outputs": []
    },
    {
      "cell_type": "code",
      "metadata": {
        "id": "nWHhc6V21mzT"
      },
      "source": [
        "train_arrays = []\n",
        "train_labels = []\n",
        "test_arrays = []\n",
        "test_labels = []\n",
        "\n",
        "def pil_to_np(stock_set):\n",
        "  target_threshold = []\n",
        "  target_set = []\n",
        "  target_labels = []\n",
        "  for i in range(0, len(stock_set)):\n",
        "    img = np.array(stock_set[i][0], dtype = np.uint8)\n",
        "    thresh , im_bw = cv2.threshold(img,128,255, cv2.THRESH_BINARY | cv2.THRESH_OTSU) \n",
        "    target_threshold.append(thresh)\n",
        "    target_set.append(np.array(im_bw, dtype = np.uint8))\n",
        "    target_labels.append(np.array(stock_set[i][1]))\n",
        "\n",
        "  return target_threshold, target_set, target_labels\n",
        "\n",
        "train_thresh, train_arrays, train_labels = pil_to_np(train_set)\n",
        "test_thresh, test_arrays, test_labels = pil_to_np(test_set)"
      ],
      "execution_count": null,
      "outputs": []
    },
    {
      "cell_type": "code",
      "source": [
        "train_arrays[0].shape"
      ],
      "metadata": {
        "colab": {
          "base_uri": "https://localhost:8080/"
        },
        "id": "xfgZJWogLnjn",
        "outputId": "893d23b2-e70c-4e44-f23b-69035cc7f293"
      },
      "execution_count": null,
      "outputs": [
        {
          "output_type": "execute_result",
          "data": {
            "text/plain": [
              "(28, 28)"
            ]
          },
          "metadata": {},
          "execution_count": 23
        }
      ]
    },
    {
      "cell_type": "code",
      "metadata": {
        "id": "Ohpw7EYxwEJS"
      },
      "source": [
        "### Creating contour maps from grayscale image\n",
        "\n",
        "def gray_to_contours(dataset):\n",
        "  contours = []\n",
        "  for i in range(0, len(dataset)):\n",
        "    contour, hierarchy = cv2.findContours(image=dataset[i], mode=cv2.RETR_TREE, method=cv2.CHAIN_APPROX_NONE)\n",
        "    contour_transform = np.zeros((dataset[i].shape))\n",
        "    contour_transform = cv2.drawContours(image = contour_transform, contours = contour , contourIdx=-1, color=(255))\n",
        "    contours.append(contour_transform)\n",
        "  \n",
        "  return contours\n",
        "\n",
        "train_contours = gray_to_contours(train_arrays)\n",
        "test_contours = gray_to_contours(test_arrays)"
      ],
      "execution_count": null,
      "outputs": []
    },
    {
      "cell_type": "code",
      "metadata": {
        "id": "tfPLuTZu3EJz"
      },
      "source": [
        "class Data_Maps():\n",
        "  def __init__(self, dataset):\n",
        "    self.dataset = dataset\n",
        "      \n",
        "  \n",
        "  def map_diff(self, cmaps):\n",
        "    maps = []\n",
        "    for i in range(len(cmaps)):\n",
        "      sz = len(cmaps[i])\n",
        "      temp = cmaps[i][0]\n",
        "      for j in range(0,len(cmaps[i])):\n",
        "        cmaps[i][j] = (cmaps[i][j] - cmaps[i][(j+1)%sz])\n",
        "      cmaps[i][-1] = (cmaps[i][-1] - temp)\n",
        "    return cmaps\n",
        "      \n",
        "      \n",
        "\n",
        "\n",
        "  def left_maps(self, rstep, cstep):\n",
        "    sz = len(self.dataset)\n",
        "    left_maps = []\n",
        "    for i in range(sz):\n",
        "      lmap = []\n",
        "      for row in range(0,self.dataset[i].shape[0],rstep):\n",
        "        count = 0\n",
        "        for col in range(0,self.dataset[i].shape[1],cstep):\n",
        "          if self.dataset[i][row][col] == 0:\n",
        "            count = count + 1\n",
        "          else:\n",
        "            break\n",
        "        lmap.append(count)\n",
        "      left_maps.append(lmap)\n",
        "    return left_maps\n",
        "\n",
        "  def right_maps(self, rstep, cstep):\n",
        "    sz = len(self.dataset)\n",
        "    right_maps = []\n",
        "    for i in range(sz):\n",
        "      rmap = []\n",
        "      for row in range(0,self.dataset[i].shape[0],rstep):\n",
        "        count = 0\n",
        "        for col in range(self.dataset[i].shape[1]-1,-1,-1 * cstep):\n",
        "          if self.dataset[i][row][col] == 0:\n",
        "            count = count + 1\n",
        "          else:\n",
        "            break\n",
        "        rmap.append(count)\n",
        "      right_maps.append(rmap)\n",
        "    return right_maps\n",
        "\n",
        "  def top_maps(self, rstep, cstep):\n",
        "    sz = len(self.dataset)\n",
        "    top_maps = []\n",
        "    for i in range(sz):\n",
        "      tmap = []\n",
        "      for col in range(0,self.dataset[i].shape[1],cstep):\n",
        "        count = 0\n",
        "        for row in range(0,self.dataset[i].shape[0], rstep):\n",
        "          if self.dataset[i][row][col] == 0:\n",
        "            count = count + 1\n",
        "          else:\n",
        "            break\n",
        "        tmap.append(count)\n",
        "      top_maps.append(tmap)\n",
        "    return top_maps\n",
        "  \n",
        "  def bottom_maps(self, rstep, cstep):\n",
        "    sz = len(self.dataset)\n",
        "    b_maps = []\n",
        "    for i in range(sz):\n",
        "      bmap = []\n",
        "      for col in range(0,self.dataset[i].shape[0],cstep):\n",
        "        count = 0\n",
        "        for row in range(self.dataset[i].shape[1]-1,-1,-1 * rstep):\n",
        "          if self.dataset[i][row][col] == 0:\n",
        "            count = count + 1\n",
        "          else:\n",
        "            break\n",
        "        bmap.append(count)\n",
        "      b_maps.append(bmap)\n",
        "    return b_maps"
      ],
      "execution_count": null,
      "outputs": []
    },
    {
      "cell_type": "code",
      "metadata": {
        "id": "6bVl-GW44Yby"
      },
      "source": [
        "### Testing\n",
        "m = Data_Maps(train_arrays)\n",
        "\n",
        "\n",
        "\n",
        "l_11 = m.left_maps(1,1)\n",
        "r_11 = m.right_maps(1,1)\n",
        "t_11 = m.top_maps(1,1)\n",
        "b_11 = m.bottom_maps(1,1)\n",
        "\n",
        "l_11d = m.map_diff(l_11)\n",
        "r_11d = m.map_diff(r_11)\n",
        "t_11d = m.map_diff(t_11)\n",
        "b_11d = m.map_diff(b_11)\n",
        "\n",
        "l_22 = m.left_maps(2,2)\n",
        "r_22 = m.right_maps(2,2)\n",
        "t_22 = m.top_maps(2,2)\n",
        "b_22 = m.bottom_maps(2,2)\n",
        "\n",
        "l_22d = m.map_diff(l_22)\n",
        "r_22d = m.map_diff(r_22)\n",
        "t_22d = m.map_diff(t_22)\n",
        "b_22d = m.map_diff(b_22)\n",
        "\n",
        "l_23 = m.left_maps(2,3)\n",
        "r_23 = m.right_maps(2,3)\n",
        "t_32 = m.top_maps(3,2)\n",
        "b_32 = m.bottom_maps(3,2)\n",
        "\n",
        "l_23d = m.map_diff(l_23)\n",
        "r_23d = m.map_diff(r_23)\n",
        "t_32d = m.map_diff(t_32)\n",
        "b_32d = m.map_diff(b_32)\n",
        "\n",
        "l_32 = m.left_maps(3,2)\n",
        "r_32 = m.right_maps(3,2)\n",
        "t_23 = m.top_maps(2,3)\n",
        "b_23 = m.bottom_maps(2,3)\n",
        "\n",
        "l_32d = m.map_diff(l_32)\n",
        "r_32d = m.map_diff(r_32)\n",
        "t_23d = m.map_diff(t_23)\n",
        "b_23d = m.map_diff(b_23)\n",
        "\n",
        "l_33 = m.left_maps(3,3)\n",
        "r_33 = m.right_maps(3,3)\n",
        "t_33 = m.top_maps(3,3)\n",
        "b_33 = m.bottom_maps(3,3)\n",
        "\n",
        "l_33d = m.map_diff(l_33)\n",
        "r_33d = m.map_diff(r_33)\n",
        "t_33d = m.map_diff(t_33)\n",
        "b_33d = m.map_diff(b_33)\n"
      ],
      "execution_count": null,
      "outputs": []
    },
    {
      "cell_type": "code",
      "metadata": {
        "id": "ugGT7xLwDK8m"
      },
      "source": [
        ""
      ],
      "execution_count": null,
      "outputs": []
    },
    {
      "cell_type": "code",
      "source": [
        ""
      ],
      "metadata": {
        "id": "BZKBo_zJzULO"
      },
      "execution_count": null,
      "outputs": []
    }
  ]
}