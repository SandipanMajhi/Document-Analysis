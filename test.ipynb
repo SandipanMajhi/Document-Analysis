{
 "cells": [
  {
   "cell_type": "code",
   "execution_count": 1,
   "id": "50b51129-c11b-4613-a48f-2b19d34866c2",
   "metadata": {},
   "outputs": [],
   "source": [
    "import progutil\n",
    "import torch\n",
    "import torchvision\n",
    "import torchvision.datasets as datasets\n",
    "import numpy as np"
   ]
  },
  {
   "cell_type": "code",
   "execution_count": 2,
   "id": "8becc10f-77f5-4c39-8131-e404d7c30398",
   "metadata": {},
   "outputs": [],
   "source": [
    "device = \"cuda\" if torch.cuda.is_available() else \"cpu\""
   ]
  },
  {
   "cell_type": "code",
   "execution_count": 3,
   "id": "d2d7744b-79d2-4819-8a1f-bdf38b748fec",
   "metadata": {},
   "outputs": [],
   "source": [
    "train_set = datasets.MNIST(root = \"./data\", train=True, download=True, transform=None)\n",
    "test_set = datasets.MNIST(root = \"./data\", train=False, download = True, transform=None)"
   ]
  },
  {
   "cell_type": "code",
   "execution_count": 4,
   "id": "f366baab-ea68-4b46-973e-fe0b25905789",
   "metadata": {},
   "outputs": [],
   "source": [
    "train_thresh, train_arrays, train_labels = progutil.pil_to_np(train_set)\n",
    "test_thresh, test_arrays, test_labels = progutil.pil_to_np(test_set)"
   ]
  },
  {
   "cell_type": "code",
   "execution_count": 5,
   "id": "b9713825-c16f-41a5-be23-c93a6d01df8a",
   "metadata": {},
   "outputs": [],
   "source": [
    "trObj = progutil.Data_Maps(train_arrays)\n",
    "teObj = progutil.Data_Maps(test_arrays)"
   ]
  },
  {
   "cell_type": "code",
   "execution_count": null,
   "id": "172691f9-48cb-425c-9e39-56f7783f7030",
   "metadata": {},
   "outputs": [],
   "source": [
    "tr_features = {}\n",
    "te_features = {}\n",
    "for i in range(1,4):\n",
    "    for j in range(1,4):\n",
    "        tr_features[\"{i}{j}\".format(i,j)] = trObj.get_maps(i,j)\n",
    "        tr_features[\"{i}{j}\".format(i,j)] = trObj.get_maps(i,j)"
   ]
  },
  {
   "cell_type": "code",
   "execution_count": 60,
   "id": "9961aa5a-0202-45aa-993c-a5887dde5104",
   "metadata": {},
   "outputs": [
    {
     "data": {
      "text/plain": [
       "<progutil.Data_Maps at 0x265143be0a0>"
      ]
     },
     "execution_count": 60,
     "metadata": {},
     "output_type": "execute_result"
    }
   ],
   "source": []
  },
  {
   "cell_type": "code",
   "execution_count": null,
   "id": "38d9f810-b301-4d10-82f5-de253d9cdc73",
   "metadata": {},
   "outputs": [],
   "source": [
    "trObj."
   ]
  },
  {
   "cell_type": "code",
   "execution_count": null,
   "id": "3b2128d4-93a1-462b-96f1-592045c7814b",
   "metadata": {},
   "outputs": [],
   "source": []
  }
 ],
 "metadata": {
  "kernelspec": {
   "display_name": "Python 3 (ipykernel)",
   "language": "python",
   "name": "python3"
  },
  "language_info": {
   "codemirror_mode": {
    "name": "ipython",
    "version": 3
   },
   "file_extension": ".py",
   "mimetype": "text/x-python",
   "name": "python",
   "nbconvert_exporter": "python",
   "pygments_lexer": "ipython3",
   "version": "3.9.7"
  }
 },
 "nbformat": 4,
 "nbformat_minor": 5
}
