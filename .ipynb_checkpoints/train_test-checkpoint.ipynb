{
 "cells": [
  {
   "cell_type": "code",
   "execution_count": 1,
   "id": "50b51129-c11b-4613-a48f-2b19d34866c2",
   "metadata": {},
   "outputs": [],
   "source": [
    "import progutil\n",
    "from mnist_prediction_model import Auto_encoder, Prediction, Model\n",
    "import torch\n",
    "import torch.nn as nn\n",
    "import torchvision\n",
    "import torchvision.datasets as datasets\n",
    "import numpy as np"
   ]
  },
  {
   "cell_type": "code",
   "execution_count": 2,
   "id": "8becc10f-77f5-4c39-8131-e404d7c30398",
   "metadata": {},
   "outputs": [],
   "source": [
    "device = \"cuda\" if torch.cuda.is_available() else \"cpu\""
   ]
  },
  {
   "cell_type": "code",
   "execution_count": 3,
   "id": "d2d7744b-79d2-4819-8a1f-bdf38b748fec",
   "metadata": {},
   "outputs": [],
   "source": [
    "train_set = datasets.MNIST(root = \"./data\", train=True, download=True, transform=None)\n",
    "test_set = datasets.MNIST(root = \"./data\", train=False, download = True, transform=None)"
   ]
  },
  {
   "cell_type": "code",
   "execution_count": 4,
   "id": "f366baab-ea68-4b46-973e-fe0b25905789",
   "metadata": {},
   "outputs": [],
   "source": [
    "train_thresh, train_arrays, train_labels = progutil.pil_to_np(train_set)\n",
    "test_thresh, test_arrays, test_labels = progutil.pil_to_np(test_set)"
   ]
  },
  {
   "cell_type": "code",
   "execution_count": 5,
   "id": "b9713825-c16f-41a5-be23-c93a6d01df8a",
   "metadata": {},
   "outputs": [],
   "source": [
    "trObj = progutil.Data_Maps(train_arrays)\n",
    "teObj = progutil.Data_Maps(test_arrays)"
   ]
  },
  {
   "cell_type": "code",
   "execution_count": 6,
   "id": "172691f9-48cb-425c-9e39-56f7783f7030",
   "metadata": {},
   "outputs": [],
   "source": [
    "tr_features = {}\n",
    "te_features = {}\n",
    "for [i,j] in [[1,1], [1,2], [2,1], [2,2], [2,3], [3,2], [3,3]]:\n",
    "    tr_features[\"maps{}_{}\".format(i,j)] = trObj.get_maps(i,j)\n",
    "    te_features[\"maps{}_{}\".format(i,j)] = teObj.get_maps(i,j)"
   ]
  },
  {
   "cell_type": "code",
   "execution_count": 7,
   "id": "9e550213-c542-4cfd-b1dc-e0b34dee0378",
   "metadata": {},
   "outputs": [],
   "source": [
    "steps = [[1,1], [1,2], [2,1], [2,2], [2,3], [3,2], [3,3]]\n",
    "\n",
    "def concat_features(features, steps):\n",
    "    left = []\n",
    "    right  = []\n",
    "    top = []\n",
    "    bottom = []\n",
    "    \n",
    "    for i,j in [[1,1], [1,2], [2,1], [2,2], [2,3], [3,2], [3,3]]:\n",
    "        left.append(features[\"maps{}_{}\".format(i,j)] [1])\n",
    "        right.append(features[\"maps{}_{}\".format(i,j)] [3])\n",
    "        top.append(features[\"maps{}_{}\".format(i,j)] [5] )\n",
    "        bottom.append(features[\"maps{}_{}\".format(i,j)] [7] )\n",
    "    \n",
    "    return torch.cat(left, dim = 1), torch.cat(right, dim = 1), torch.cat(top, dim = 1), torch.cat(bottom, dim = 1)\n",
    "\n",
    "\n",
    "    "
   ]
  },
  {
   "cell_type": "code",
   "execution_count": 8,
   "id": "efe97607-1466-4f12-bf23-f7ec961ed413",
   "metadata": {},
   "outputs": [],
   "source": [
    "train_lefts, train_rights, train_tops, train_bottoms = concat_features(tr_features,steps)\n",
    "test_lefts, test_rights, test_tops, test_bottoms = concat_features(te_features,steps)\n",
    "\n"
   ]
  },
  {
   "cell_type": "code",
   "execution_count": 9,
   "id": "a1a7bffc-ee29-46c5-9b49-2d013eec1c9b",
   "metadata": {},
   "outputs": [],
   "source": [
    "batch_size = 400\n",
    "\n",
    "trb_lefts, trb_rights, trb_tops, trb_bottoms = torch.split(train_lefts,batch_size), torch.split(train_rights,batch_size), torch.split(train_tops,batch_size), torch.split(train_bottoms,batch_size)\n",
    "teb_lefts, teb_rights, teb_tops, teb_bottoms = torch.split(test_lefts,batch_size), torch.split(test_rights,batch_size), torch.split(test_tops,batch_size), torch.split(test_bottoms,batch_size)\n",
    "\n",
    "train_labels = torch.FloatTensor(train_labels)\n",
    "trb_labels = torch.split(train_labels, batch_size)\n",
    "\n",
    "test_labels = torch.FloatTensor(test_labels)\n",
    "teb_labels = torch.split(test_labels, batch_size)"
   ]
  },
  {
   "cell_type": "code",
   "execution_count": 10,
   "id": "dcbc8a62-bcc2-4a1f-ac1f-a3e92e011e90",
   "metadata": {},
   "outputs": [],
   "source": [
    "train_embeddings = torch.split(torch.cat([train_lefts, train_rights, train_tops, train_bottoms ], dim = 1), batch_size)\n",
    "test_embeddings = torch.split(torch.cat([test_lefts, test_rights, test_tops, test_bottoms], dim = 1), batch_size)"
   ]
  },
  {
   "cell_type": "code",
   "execution_count": 12,
   "id": "ee9cc344-cf01-48db-837d-2008164efe00",
   "metadata": {},
   "outputs": [
    {
     "name": "stdout",
     "output_type": "stream",
     "text": [
      "The number of parameters in the Emb Auto Encoder -> 151402\n",
      "The number of parameters in the Prediction layer -> 310\n",
      "The number of parameters in the linmodel layer -> 69450\n"
     ]
    }
   ],
   "source": [
    "# input_size  = 76\n",
    "# hidden_dims = [50, 7, 50]\n",
    "output_size = 10\n",
    "embedding_size = train_embeddings[0].shape[1]\n",
    "emb_hidden_dims = [150, 30, 150]\n",
    "\n",
    "Emb = Auto_encoder(embedding_size, emb_hidden_dims).to(device)\n",
    "Emb_pred = Prediction(emb_hidden_dims[1], output_size).to(device)\n",
    "\n",
    "linModel = Model(embedding_size, [128, 64], output_size ).to(device)\n",
    "\n",
    "lr = 0.003\n",
    "criterion = nn.MSELoss()\n",
    "classerror = nn.CrossEntropyLoss()\n",
    "# params = list(L.parameters()) + list(R.parameters()) + list(T.parameters()) + list(B.parameters()) + list(Emb.parameters()) + list(Emb_pred.parameters())\n",
    "params = list(Emb_pred.parameters()) + list(Emb.parameters()) + list(linModel.parameters())\n",
    "optimizer = torch.optim.Adam(params, lr)\n",
    "\n",
    "print(\"The number of parameters in the Emb Auto Encoder -> {}\".format(sum(p.numel() for p in Emb.parameters())))\n",
    "print(\"The number of parameters in the Prediction layer -> {}\".format(sum(p.numel() for p in Emb_pred.parameters())))\n",
    "print(\"The number of parameters in the linmodel layer -> {}\".format(sum(p.numel() for p in linModel.parameters())))"
   ]
  },
  {
   "cell_type": "code",
   "execution_count": 13,
   "id": "6777ce6b-db58-40a9-b491-6d2c17f1d9c9",
   "metadata": {},
   "outputs": [
    {
     "data": {
      "text/plain": [
       "Auto_encoder(\n",
       "  (fclayer1): Linear(in_features=472, out_features=150, bias=True)\n",
       "  (fclayer2): Linear(in_features=150, out_features=30, bias=True)\n",
       "  (fclayer3): Linear(in_features=30, out_features=150, bias=True)\n",
       "  (fclayer4): Linear(in_features=150, out_features=472, bias=True)\n",
       "  (lerelu): LeakyReLU(negative_slope=0.2)\n",
       ")"
      ]
     },
     "execution_count": 13,
     "metadata": {},
     "output_type": "execute_result"
    }
   ],
   "source": [
    "Emb"
   ]
  },
  {
   "cell_type": "code",
   "execution_count": 14,
   "id": "7a6787f8-c370-4956-97a6-6ca65f412f04",
   "metadata": {
    "tags": []
   },
   "outputs": [
    {
     "name": "stdout",
     "output_type": "stream",
     "text": [
      "Epoch-1/100---------->\n",
      "Epoch loss = 270.35851633548737 -------- Accuracy = 0.6829833388328552\n",
      "Epoch-2/100---------->\n",
      "Epoch loss = 250.01448106765747 -------- Accuracy = 0.7973833680152893\n",
      "Epoch-3/100---------->\n",
      "Epoch loss = 245.0395554304123 -------- Accuracy = 0.8306500315666199\n",
      "Epoch-4/100---------->\n",
      "Epoch loss = 236.3610544204712 -------- Accuracy = 0.8894500136375427\n",
      "Epoch-5/100---------->\n",
      "Epoch loss = 233.96314907073975 -------- Accuracy = 0.9038333296775818\n",
      "Epoch-6/100---------->\n",
      "Epoch loss = 232.69462394714355 -------- Accuracy = 0.9125166535377502\n",
      "Epoch-7/100---------->\n",
      "Epoch loss = 231.66963016986847 -------- Accuracy = 0.9188500046730042\n",
      "Epoch-8/100---------->\n",
      "Epoch loss = 230.6615490913391 -------- Accuracy = 0.9255000352859497\n",
      "Epoch-9/100---------->\n",
      "Epoch loss = 230.1511708498001 -------- Accuracy = 0.9284499883651733\n",
      "Epoch-10/100---------->\n",
      "Epoch loss = 229.5373581647873 -------- Accuracy = 0.9329000115394592\n",
      "Epoch-11/100---------->\n",
      "Epoch loss = 228.98301100730896 -------- Accuracy = 0.9363166689872742\n",
      "Epoch-12/100---------->\n",
      "Epoch loss = 228.58742833137512 -------- Accuracy = 0.9387666583061218\n",
      "Epoch-13/100---------->\n",
      "Epoch loss = 228.21792459487915 -------- Accuracy = 0.9413833618164062\n",
      "Epoch-14/100---------->\n",
      "Epoch loss = 227.80303311347961 -------- Accuracy = 0.9439833164215088\n",
      "Epoch-15/100---------->\n",
      "Epoch loss = 227.5569521188736 -------- Accuracy = 0.9456000328063965\n",
      "Epoch-16/100---------->\n",
      "Epoch loss = 227.58849465847015 -------- Accuracy = 0.9449499845504761\n",
      "Epoch-17/100---------->\n",
      "Epoch loss = 227.16244983673096 -------- Accuracy = 0.9476667046546936\n",
      "Epoch-18/100---------->\n",
      "Epoch loss = 226.82600903511047 -------- Accuracy = 0.9501833319664001\n",
      "Epoch-19/100---------->\n",
      "Epoch loss = 226.8250606060028 -------- Accuracy = 0.9498833417892456\n",
      "Epoch-20/100---------->\n",
      "Epoch loss = 226.5334632396698 -------- Accuracy = 0.9518499970436096\n",
      "Epoch-21/100---------->\n",
      "Epoch loss = 226.23745501041412 -------- Accuracy = 0.9540166854858398\n",
      "Epoch-22/100---------->\n",
      "Epoch loss = 226.15178334712982 -------- Accuracy = 0.9542500376701355\n",
      "Epoch-23/100---------->\n",
      "Epoch loss = 226.00874519348145 -------- Accuracy = 0.9550166726112366\n",
      "Epoch-24/100---------->\n",
      "Epoch loss = 225.60857903957367 -------- Accuracy = 0.9579333662986755\n",
      "Epoch-25/100---------->\n",
      "Epoch loss = 225.42762625217438 -------- Accuracy = 0.9596500396728516\n",
      "Epoch-26/100---------->\n",
      "Epoch loss = 225.4644591808319 -------- Accuracy = 0.9589999914169312\n",
      "Epoch-27/100---------->\n",
      "Epoch loss = 225.22027969360352 -------- Accuracy = 0.9602500200271606\n",
      "Epoch-28/100---------->\n",
      "Epoch loss = 225.15136647224426 -------- Accuracy = 0.9608500003814697\n",
      "Epoch-29/100---------->\n",
      "Epoch loss = 224.98038637638092 -------- Accuracy = 0.9620833396911621\n",
      "Epoch-30/100---------->\n",
      "Epoch loss = 224.94522535800934 -------- Accuracy = 0.9620833396911621\n",
      "Epoch-31/100---------->\n",
      "Epoch loss = 224.72520983219147 -------- Accuracy = 0.9634833335876465\n",
      "Epoch-32/100---------->\n",
      "Epoch loss = 224.6557148694992 -------- Accuracy = 0.9641000032424927\n",
      "Epoch-33/100---------->\n",
      "Epoch loss = 224.51747453212738 -------- Accuracy = 0.96506667137146\n",
      "Epoch-34/100---------->\n",
      "Epoch loss = 224.4623726606369 -------- Accuracy = 0.9650166630744934\n",
      "Epoch-35/100---------->\n",
      "Epoch loss = 224.34490287303925 -------- Accuracy = 0.9661499857902527\n",
      "Epoch-36/100---------->\n",
      "Epoch loss = 224.42795431613922 -------- Accuracy = 0.9654000401496887\n",
      "Epoch-37/100---------->\n",
      "Epoch loss = 224.15552961826324 -------- Accuracy = 0.9673666954040527\n",
      "Epoch-38/100---------->\n",
      "Epoch loss = 224.20902979373932 -------- Accuracy = 0.967033326625824\n",
      "Epoch-39/100---------->\n",
      "Epoch loss = 224.1703338623047 -------- Accuracy = 0.9673333168029785\n",
      "Epoch-40/100---------->\n",
      "Epoch loss = 223.99089300632477 -------- Accuracy = 0.9681167006492615\n",
      "Epoch-41/100---------->\n",
      "Epoch loss = 224.04609882831573 -------- Accuracy = 0.9681833386421204\n",
      "Epoch-42/100---------->\n",
      "Epoch loss = 223.99885094165802 -------- Accuracy = 0.9680833220481873\n",
      "Epoch-43/100---------->\n",
      "Epoch loss = 223.65902411937714 -------- Accuracy = 0.9707000255584717\n",
      "Epoch-44/100---------->\n",
      "Epoch loss = 223.80787205696106 -------- Accuracy = 0.9695667028427124\n",
      "Epoch-45/100---------->\n",
      "Epoch loss = 223.7351360321045 -------- Accuracy = 0.9700000286102295\n",
      "Epoch-46/100---------->\n",
      "Epoch loss = 223.98161661624908 -------- Accuracy = 0.9683499932289124\n",
      "Epoch-47/100---------->\n",
      "Epoch loss = 223.83114874362946 -------- Accuracy = 0.9692167043685913\n",
      "Epoch-48/100---------->\n",
      "Epoch loss = 223.7424066066742 -------- Accuracy = 0.9698333144187927\n",
      "Epoch-49/100---------->\n",
      "Epoch loss = 223.61008667945862 -------- Accuracy = 0.9706667065620422\n",
      "Epoch-50/100---------->\n",
      "Epoch loss = 223.56712675094604 -------- Accuracy = 0.9711499810218811\n",
      "Epoch-51/100---------->\n",
      "Epoch loss = 223.56864666938782 -------- Accuracy = 0.9709333181381226\n",
      "Epoch-52/100---------->\n",
      "Epoch loss = 223.5121304988861 -------- Accuracy = 0.9713667035102844\n",
      "Epoch-53/100---------->\n",
      "Epoch loss = 223.35465157032013 -------- Accuracy = 0.972516655921936\n",
      "Epoch-54/100---------->\n",
      "Epoch loss = 223.47551453113556 -------- Accuracy = 0.9716166853904724\n",
      "Epoch-55/100---------->\n",
      "Epoch loss = 223.38850259780884 -------- Accuracy = 0.9723666906356812\n",
      "Epoch-56/100---------->\n",
      "Epoch loss = 223.4324369430542 -------- Accuracy = 0.9717833399772644\n",
      "Epoch-57/100---------->\n",
      "Epoch loss = 223.3139946460724 -------- Accuracy = 0.9726666808128357\n",
      "Epoch-58/100---------->\n",
      "Epoch loss = 223.47562515735626 -------- Accuracy = 0.9715166687965393\n",
      "Epoch-59/100---------->\n",
      "Epoch loss = 223.1448541879654 -------- Accuracy = 0.9739000201225281\n",
      "Epoch-60/100---------->\n",
      "Epoch loss = 223.22543811798096 -------- Accuracy = 0.9733999967575073\n",
      "Epoch-61/100---------->\n",
      "Epoch loss = 223.32073080539703 -------- Accuracy = 0.9725833535194397\n",
      "Epoch-62/100---------->\n",
      "Epoch loss = 223.16237652301788 -------- Accuracy = 0.9736500382423401\n",
      "Epoch-63/100---------->\n",
      "Epoch loss = 223.15673542022705 -------- Accuracy = 0.9735666513442993\n",
      "Epoch-64/100---------->\n",
      "Epoch loss = 223.21171641349792 -------- Accuracy = 0.9729166626930237\n",
      "Epoch-65/100---------->\n",
      "Epoch loss = 222.95859348773956 -------- Accuracy = 0.9751166701316833\n",
      "Epoch-66/100---------->\n",
      "Epoch loss = 222.88208615779877 -------- Accuracy = 0.9753666520118713\n",
      "Epoch-67/100---------->\n",
      "Epoch loss = 222.87231135368347 -------- Accuracy = 0.9755666851997375\n",
      "Epoch-68/100---------->\n",
      "Epoch loss = 222.91892004013062 -------- Accuracy = 0.9751499891281128\n",
      "Epoch-69/100---------->\n",
      "Epoch loss = 222.83351016044617 -------- Accuracy = 0.9755833148956299\n",
      "Epoch-70/100---------->\n",
      "Epoch loss = 222.83741211891174 -------- Accuracy = 0.9756667017936707\n",
      "Epoch-71/100---------->\n",
      "Epoch loss = 222.7457216978073 -------- Accuracy = 0.9763666987419128\n",
      "Epoch-72/100---------->\n",
      "Epoch loss = 222.84259152412415 -------- Accuracy = 0.9755833148956299\n",
      "Epoch-73/100---------->\n",
      "Epoch loss = 222.75949478149414 -------- Accuracy = 0.9761833548545837\n",
      "Epoch-74/100---------->\n",
      "Epoch loss = 222.6905905008316 -------- Accuracy = 0.9767333269119263\n",
      "Epoch-75/100---------->\n",
      "Epoch loss = 222.4996235370636 -------- Accuracy = 0.9782333374023438\n",
      "Epoch-76/100---------->\n",
      "Epoch loss = 222.60000944137573 -------- Accuracy = 0.9772166609764099\n",
      "Epoch-77/100---------->\n",
      "Epoch loss = 222.75459837913513 -------- Accuracy = 0.9761666655540466\n",
      "Epoch-78/100---------->\n",
      "Epoch loss = 222.7300580739975 -------- Accuracy = 0.9765166640281677\n",
      "Epoch-79/100---------->\n",
      "Epoch loss = 222.612100481987 -------- Accuracy = 0.9771666526794434\n",
      "Epoch-80/100---------->\n",
      "Epoch loss = 222.74524629116058 -------- Accuracy = 0.9762833714485168\n",
      "Epoch-81/100---------->\n",
      "Epoch loss = 222.68803322315216 -------- Accuracy = 0.9766333699226379\n",
      "Epoch-82/100---------->\n",
      "Epoch loss = 222.53184986114502 -------- Accuracy = 0.9777500033378601\n",
      "Epoch-83/100---------->\n",
      "Epoch loss = 222.48109364509583 -------- Accuracy = 0.9781166911125183\n",
      "Epoch-84/100---------->\n",
      "Epoch loss = 222.56970357894897 -------- Accuracy = 0.9773666858673096\n",
      "Epoch-85/100---------->\n",
      "Epoch loss = 222.50341415405273 -------- Accuracy = 0.9779500365257263\n",
      "Epoch-86/100---------->\n",
      "Epoch loss = 222.5857560634613 -------- Accuracy = 0.9773499965667725\n",
      "Epoch-87/100---------->\n",
      "Epoch loss = 222.61193180084229 -------- Accuracy = 0.9771167039871216\n",
      "Epoch-88/100---------->\n",
      "Epoch loss = 222.6808661222458 -------- Accuracy = 0.9768166542053223\n",
      "Epoch-89/100---------->\n",
      "Epoch loss = 222.67411351203918 -------- Accuracy = 0.9767667055130005\n",
      "Epoch-90/100---------->\n",
      "Epoch loss = 222.47490513324738 -------- Accuracy = 0.9780499935150146\n",
      "Epoch-91/100---------->\n",
      "Epoch loss = 222.4310258626938 -------- Accuracy = 0.9783666729927063\n",
      "Epoch-92/100---------->\n",
      "Epoch loss = 222.376318693161 -------- Accuracy = 0.9787499904632568\n",
      "Epoch-93/100---------->\n",
      "Epoch loss = 222.3618836402893 -------- Accuracy = 0.9789000153541565\n",
      "Epoch-94/100---------->\n",
      "Epoch loss = 222.54464626312256 -------- Accuracy = 0.977649986743927\n",
      "Epoch-95/100---------->\n",
      "Epoch loss = 222.56313395500183 -------- Accuracy = 0.977400004863739\n",
      "Epoch-96/100---------->\n",
      "Epoch loss = 222.30357670783997 -------- Accuracy = 0.979200005531311\n",
      "Epoch-97/100---------->\n",
      "Epoch loss = 222.1791708469391 -------- Accuracy = 0.9799500107765198\n",
      "Epoch-98/100---------->\n",
      "Epoch loss = 222.32752358913422 -------- Accuracy = 0.9790166616439819\n",
      "Epoch-99/100---------->\n",
      "Epoch loss = 222.33195662498474 -------- Accuracy = 0.9790666699409485\n",
      "Epoch-100/100---------->\n",
      "Epoch loss = 222.29766595363617 -------- Accuracy = 0.9793333411216736\n"
     ]
    }
   ],
   "source": [
    "EPOCHS = 100\n",
    "\n",
    "for epoch in range(EPOCHS):\n",
    "    print(\"Epoch-{}/{}---------->\".format(epoch+1, EPOCHS))\n",
    "    correct = 0\n",
    "    catloss = 0\n",
    "    for i in range(len(trb_labels)):\n",
    "        optimizer.zero_grad()\n",
    "        output = linModel(train_embeddings[i].cuda())\n",
    "        labs = trb_labels[i].type(torch.LongTensor).cuda()\n",
    "        closs = classerror(output, labs )\n",
    "        closs.backward()\n",
    "        optimizer.step()\n",
    "        catloss += closs.item()\n",
    "        correct += (torch.argmax(output, dim = 1) == labs).float().sum()\n",
    "    print(\"Epoch loss = {} -------- Accuracy = {}\".format(catloss, correct/(batch_size * len(train_embeddings))))"
   ]
  },
  {
   "cell_type": "code",
   "execution_count": 15,
   "id": "be6cee55-bfac-4010-bb66-87855b977155",
   "metadata": {},
   "outputs": [
    {
     "name": "stdout",
     "output_type": "stream",
     "text": [
      "Test Set -------- Accuracy = 38.18976020812988\n"
     ]
    }
   ],
   "source": [
    "with torch.no_grad():\n",
    "    test_corrects = 0\n",
    "    test_catloss = 0\n",
    "    for i in range(len(teb_labels)):\n",
    "        test_output = linModel(test_embeddings[i].cuda())\n",
    "        test_labs = teb_labels[i].type(torch.LongTensor).cuda()\n",
    "        test_closs = classerror(test_output, test_labs )\n",
    "        test_catloss += test_closs.item()\n",
    "        test_corrects += (torch.argmax(test_output, dim = 1) == test_labs).float().sum()\n",
    "    print(\"Test Set -------- Accuracy = {}\".format(test_catloss, test_corrects/(batch_size * len(test_embeddings)))) "
   ]
  },
  {
   "cell_type": "code",
   "execution_count": 17,
   "id": "68fbf6e8-687f-4e8a-96c9-56ebb9c041ba",
   "metadata": {},
   "outputs": [
    {
     "data": {
      "text/plain": [
       "torch.Size([400, 10])"
      ]
     },
     "execution_count": 17,
     "metadata": {},
     "output_type": "execute_result"
    }
   ],
   "source": [
    "test_output.shape"
   ]
  },
  {
   "cell_type": "code",
   "execution_count": null,
   "id": "dad1cb62-1a8c-48af-8b94-43a14cc06da0",
   "metadata": {},
   "outputs": [],
   "source": [
    "EPOCHS = 50\n",
    "\n",
    "for epoch in range(EPOCHS):\n",
    "    print(\"Epoch-{}/{}---------->\".format(epoch+1, EPOCHS))\n",
    "    elloss = 0\n",
    "    erloss = 0\n",
    "    etloss = 0\n",
    "    ebloss = 0\n",
    "    EmbLoss = 0\n",
    "    \n",
    "    for ebatch in train_embeddings:\n",
    "        optimizer.zero_grad()\n",
    "        _,eout = Emb(ebatch.cuda())\n",
    "        eloss = criterion(ebatch.cuda(), eout)\n",
    "        eloss.backward()\n",
    "        optimizer.step()\n",
    "        EmbLoss += eloss.item()\n",
    "    print(\"Emb loss = {}\".format(EmbLoss))\n",
    "        \n",
    "    \n",
    "    "
   ]
  },
  {
   "cell_type": "code",
   "execution_count": null,
   "id": "6cb1eeed-f0af-4b62-af9c-4d5b5aae9949",
   "metadata": {},
   "outputs": [],
   "source": [
    "EPOCHS = 200\n",
    "\n",
    "for epoch in range(EPOCHS):\n",
    "    print(\"Epoch-{}/{}---------->\".format(epoch+1, EPOCHS))\n",
    "    correct = 0\n",
    "    catloss = 0\n",
    "    for i in range(len(trb_labels)):\n",
    "        optimizer.zero_grad()\n",
    "        enc,_ = Emb(train_embeddings[i].cuda())\n",
    "        output = Emb_pred(enc)\n",
    "        labs = trb_labels[i].type(torch.LongTensor).cuda()\n",
    "        closs = classerror(output, labs )\n",
    "        closs.backward()\n",
    "        optimizer.step()\n",
    "        catloss += closs.item()\n",
    "        correct += (torch.argmax(output, dim = 1) == labs).float().sum()\n",
    "    print(\"Epoch loss = {} -------- Accuracy = {}\".format(catloss, correct/(batch_size * len(train_embeddings))))\n",
    "        \n",
    "    "
   ]
  },
  {
   "cell_type": "code",
   "execution_count": 21,
   "id": "d795740f-22a1-4072-83a8-0e501d1aefc8",
   "metadata": {},
   "outputs": [
    {
     "name": "stdout",
     "output_type": "stream",
     "text": [
      "Test Set -------- Accuracy = 38.91535210609436\n"
     ]
    }
   ],
   "source": [
    "with torch.no_grad():\n",
    "    test_corrects = 0\n",
    "    test_catloss = 0\n",
    "    for i in range(len(teb_labels)):\n",
    "        test_enc,_ = Emb(test_embeddings[i].cuda())\n",
    "        test_output = Emb_pred(test_enc)\n",
    "        test_labs = teb_labels[i].type(torch.LongTensor).cuda()\n",
    "        test_closs = classerror(test_output, test_labs )\n",
    "        test_catloss += test_closs.item()\n",
    "        test_corrects += (torch.argmax(test_output, dim = 1) == test_labs).float().sum()\n",
    "    print(\"Test Set -------- Accuracy = {}\".format(test_catloss, test_corrects/(batch_size * len(test_embeddings)))) "
   ]
  },
  {
   "cell_type": "code",
   "execution_count": 47,
   "id": "7acac100-7b9c-4c0b-93cc-8767c58a7816",
   "metadata": {},
   "outputs": [
    {
     "data": {
      "text/plain": [
       "torch.Size([400, 472])"
      ]
     },
     "execution_count": 47,
     "metadata": {},
     "output_type": "execute_result"
    }
   ],
   "source": []
  },
  {
   "cell_type": "code",
   "execution_count": null,
   "id": "647ea5a4-2186-4a54-8ebf-3271a7629b9b",
   "metadata": {},
   "outputs": [],
   "source": []
  }
 ],
 "metadata": {
  "kernelspec": {
   "display_name": "Python 3 (ipykernel)",
   "language": "python",
   "name": "python3"
  },
  "language_info": {
   "codemirror_mode": {
    "name": "ipython",
    "version": 3
   },
   "file_extension": ".py",
   "mimetype": "text/x-python",
   "name": "python",
   "nbconvert_exporter": "python",
   "pygments_lexer": "ipython3",
   "version": "3.9.7"
  }
 },
 "nbformat": 4,
 "nbformat_minor": 5
}
