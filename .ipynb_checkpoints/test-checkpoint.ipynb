{
 "cells": [
  {
   "cell_type": "code",
   "execution_count": 40,
   "id": "50b51129-c11b-4613-a48f-2b19d34866c2",
   "metadata": {},
   "outputs": [],
   "source": [
    "import progutil\n",
    "import torch\n",
    "import torchvision\n",
    "import torchvision.datasets as datasets\n",
    "import numpy as np"
   ]
  },
  {
   "cell_type": "code",
   "execution_count": 41,
   "id": "8becc10f-77f5-4c39-8131-e404d7c30398",
   "metadata": {},
   "outputs": [],
   "source": [
    "device = \"cuda\" if torch.cuda.is_available() else \"cpu\""
   ]
  },
  {
   "cell_type": "code",
   "execution_count": 42,
   "id": "d2d7744b-79d2-4819-8a1f-bdf38b748fec",
   "metadata": {},
   "outputs": [],
   "source": [
    "train_set = datasets.MNIST(root = \"./data\", train=True, download=True, transform=None)\n",
    "test_set = datasets.MNIST(root = \"./data\", train=False, download = True, transform=None)"
   ]
  },
  {
   "cell_type": "code",
   "execution_count": 43,
   "id": "f366baab-ea68-4b46-973e-fe0b25905789",
   "metadata": {},
   "outputs": [],
   "source": [
    "train_thresh, train_arrays, train_labels = progutil.pil_to_np(train_set)\n",
    "test_thresh, test_arrays, test_labels = progutil.pil_to_np(test_set)"
   ]
  },
  {
   "cell_type": "code",
   "execution_count": 46,
   "id": "b9713825-c16f-41a5-be23-c93a6d01df8a",
   "metadata": {},
   "outputs": [],
   "source": [
    "trObj = progutil.Data_Maps(train_arrays)\n",
    "teObj = progutil.Data_Maps(test_arrays)"
   ]
  },
  {
   "cell_type": "code",
   "execution_count": 47,
   "id": "172691f9-48cb-425c-9e39-56f7783f7030",
   "metadata": {},
   "outputs": [
    {
     "ename": "AttributeError",
     "evalue": "'Data_Maps' object has no attribute 'mapsndiff'",
     "output_type": "error",
     "traceback": [
      "\u001b[1;31m---------------------------------------------------------------------------\u001b[0m",
      "\u001b[1;31mAttributeError\u001b[0m                            Traceback (most recent call last)",
      "\u001b[1;32m~\\AppData\\Local\\Temp/ipykernel_19484/1623075383.py\u001b[0m in \u001b[0;36m<module>\u001b[1;34m\u001b[0m\n\u001b[0;32m      3\u001b[0m \u001b[1;32mfor\u001b[0m \u001b[0mi\u001b[0m \u001b[1;32min\u001b[0m \u001b[0mrange\u001b[0m\u001b[1;33m(\u001b[0m\u001b[1;36m1\u001b[0m\u001b[1;33m,\u001b[0m\u001b[1;36m4\u001b[0m\u001b[1;33m)\u001b[0m\u001b[1;33m:\u001b[0m\u001b[1;33m\u001b[0m\u001b[1;33m\u001b[0m\u001b[0m\n\u001b[0;32m      4\u001b[0m     \u001b[1;32mfor\u001b[0m \u001b[0mj\u001b[0m \u001b[1;32min\u001b[0m \u001b[0mrange\u001b[0m\u001b[1;33m(\u001b[0m\u001b[1;36m1\u001b[0m\u001b[1;33m,\u001b[0m\u001b[1;36m4\u001b[0m\u001b[1;33m)\u001b[0m\u001b[1;33m:\u001b[0m\u001b[1;33m\u001b[0m\u001b[1;33m\u001b[0m\u001b[0m\n\u001b[1;32m----> 5\u001b[1;33m          \u001b[0mtr_features\u001b[0m\u001b[1;33m[\u001b[0m\u001b[1;34m\"{i}{j}\"\u001b[0m\u001b[1;33m.\u001b[0m\u001b[0mformat\u001b[0m\u001b[1;33m(\u001b[0m\u001b[0mi\u001b[0m\u001b[1;33m,\u001b[0m\u001b[0mj\u001b[0m\u001b[1;33m)\u001b[0m\u001b[1;33m]\u001b[0m \u001b[1;33m=\u001b[0m \u001b[0mtrObj\u001b[0m\u001b[1;33m.\u001b[0m\u001b[0mmapsndiff\u001b[0m\u001b[1;33m(\u001b[0m\u001b[0mi\u001b[0m\u001b[1;33m,\u001b[0m\u001b[0mj\u001b[0m\u001b[1;33m)\u001b[0m\u001b[1;33m\u001b[0m\u001b[1;33m\u001b[0m\u001b[0m\n\u001b[0m",
      "\u001b[1;31mAttributeError\u001b[0m: 'Data_Maps' object has no attribute 'mapsndiff'"
     ]
    }
   ],
   "source": [
    "tr_features = {}\n",
    "te_features = {}\n",
    "for i in range(1,4):\n",
    "    for j in range(1,4):\n",
    "         tr_features[\"{i}{j}\".format(i,j)] = trObj.mapsndiff(i,j)"
   ]
  },
  {
   "cell_type": "code",
   "execution_count": 38,
   "id": "9961aa5a-0202-45aa-993c-a5887dde5104",
   "metadata": {},
   "outputs": [
    {
     "ename": "SyntaxError",
     "evalue": "cannot assign to function call (Temp/ipykernel_19484/1453559568.py, line 4)",
     "output_type": "error",
     "traceback": [
      "\u001b[1;36m  File \u001b[1;32m\"C:\\Users\\user\\AppData\\Local\\Temp/ipykernel_19484/1453559568.py\"\u001b[1;36m, line \u001b[1;32m4\u001b[0m\n\u001b[1;33m    \"l_{}{}\".format(i,j) = 2\u001b[0m\n\u001b[1;37m    ^\u001b[0m\n\u001b[1;31mSyntaxError\u001b[0m\u001b[1;31m:\u001b[0m cannot assign to function call\n"
     ]
    }
   ],
   "source": [
    "i = 1\n",
    "j = 2\n",
    "\n",
    "\"l_{}{}\".format(i,j) = 2"
   ]
  },
  {
   "cell_type": "code",
   "execution_count": null,
   "id": "38d9f810-b301-4d10-82f5-de253d9cdc73",
   "metadata": {},
   "outputs": [],
   "source": []
  },
  {
   "cell_type": "code",
   "execution_count": null,
   "id": "3b2128d4-93a1-462b-96f1-592045c7814b",
   "metadata": {},
   "outputs": [],
   "source": []
  }
 ],
 "metadata": {
  "kernelspec": {
   "display_name": "Python 3 (ipykernel)",
   "language": "python",
   "name": "python3"
  },
  "language_info": {
   "codemirror_mode": {
    "name": "ipython",
    "version": 3
   },
   "file_extension": ".py",
   "mimetype": "text/x-python",
   "name": "python",
   "nbconvert_exporter": "python",
   "pygments_lexer": "ipython3",
   "version": "3.9.7"
  }
 },
 "nbformat": 4,
 "nbformat_minor": 5
}
